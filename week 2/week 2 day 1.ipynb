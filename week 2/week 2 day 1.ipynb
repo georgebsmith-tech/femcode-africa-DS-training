{
 "cells": [
  {
   "cell_type": "code",
   "execution_count": null,
   "metadata": {},
   "outputs": [],
   "source": [
    "x=float(input(\"Enter a number: \"))\n",
    "y=float(input(\"Enter a number: \"))\n",
    "z=float(input(\"Enter a number: \"))\n",
    "r=float(input(\"Enter a number: \"))\n",
    "mean=(x+y+z+r)/4\n",
    "std=((x-mean)**2+(y-mean)**2+(z-mean)**2+(r-mean)**2)**(1/2)\n",
    "print(f\"the standard deviation is {std}\") ## string interpolation"
   ]
  },
  {
   "cell_type": "code",
   "execution_count": null,
   "metadata": {},
   "outputs": [],
   "source": [
    "a=12\n",
    "b=20\n",
    "c=a+b\n",
    "print(f\"The sum of {a} and {b} is {c}\")"
   ]
  },
  {
   "cell_type": "code",
   "execution_count": null,
   "metadata": {},
   "outputs": [],
   "source": [
    "x=float(input(\"Enter a number: \"))\n",
    "y=float(input(\"Enter a number: \"))\n",
    "z=float(input(\"Enter a number: \"))\n",
    "r=float(input(\"Enter a number: \"))\n",
    "mean=(x+y+z+r)/4\n",
    "std=((x-mean)**2+(y-mean)**2+(z-mean)**2+(r-mean)**2)**(1/2)\n",
    "print(f\"the standard deviation is {round(std,2)}\") ## string interpolation"
   ]
  },
  {
   "cell_type": "code",
   "execution_count": null,
   "metadata": {},
   "outputs": [],
   "source": [
    "round(12.4346564,3)"
   ]
  },
  {
   "cell_type": "markdown",
   "metadata": {},
   "source": [
    "##  ternary operators / if expression"
   ]
  },
  {
   "cell_type": "code",
   "execution_count": null,
   "metadata": {},
   "outputs": [],
   "source": [
    "password=input(\"Enter password: \")\n",
    "n=len(password)\n",
    "if n>=5:\n",
    "    print(\"Strong password\")\n",
    "else:\n",
    "    print(\"Weak password\")"
   ]
  },
  {
   "cell_type": "code",
   "execution_count": null,
   "metadata": {},
   "outputs": [],
   "source": [
    "password=input(\"Enter password: \")\n",
    "n=len(password)\n",
    "print(\"Strong password\") if n>=5 else print(\"Weak password\")\n",
    "# if_true if cond else if_false"
   ]
  },
  {
   "cell_type": "code",
   "execution_count": null,
   "metadata": {},
   "outputs": [],
   "source": [
    "score=int(input(\"Score: \"))\n",
    "if score>=60:\n",
    "    remark=\"Passed\"\n",
    "else:\n",
    "    remark=\"failed\"\n",
    "print(f\"Your remark is {remark}\")"
   ]
  },
  {
   "cell_type": "code",
   "execution_count": null,
   "metadata": {},
   "outputs": [],
   "source": [
    "score=int(input(\"Score: \"))\n",
    "remark=\"Passed\" if score>=60 else \"Failed\"\n",
    "print(f\"Your remark is {remark}\")"
   ]
  },
  {
   "cell_type": "markdown",
   "metadata": {},
   "source": [
    "## Range function and for loop"
   ]
  },
  {
   "cell_type": "code",
   "execution_count": null,
   "metadata": {},
   "outputs": [],
   "source": [
    "range(5)# 0,1,2,3,4\n",
    "range(10)# 0,1,2,3,4,5,6,...,9\n",
    "range(2,10) # 2,3,4,...,9\n",
    "range(2,16,2)#2,4,6,...,14"
   ]
  },
  {
   "cell_type": "code",
   "execution_count": null,
   "metadata": {},
   "outputs": [],
   "source": [
    "for lcv in range(5): # loop control variable\n",
    "    print(lcv)"
   ]
  },
  {
   "cell_type": "code",
   "execution_count": null,
   "metadata": {},
   "outputs": [],
   "source": [
    "for i in range(2,9,2):\n",
    "    print(2*i)"
   ]
  },
  {
   "cell_type": "code",
   "execution_count": null,
   "metadata": {},
   "outputs": [],
   "source": [
    "sum=0\n",
    "for k in range(5):\n",
    "    age=int(input(\"Enter your age: \")) # 28,34\n",
    "    sum =sum+age # 0+28=28, 28+34=62\n",
    "    print(sum)\n",
    "    \n",
    "    "
   ]
  },
  {
   "cell_type": "code",
   "execution_count": 1,
   "metadata": {},
   "outputs": [
    {
     "name": "stdout",
     "output_type": "stream",
     "text": [
      "Enter your age: 12\n",
      "Enter your age: 44\n",
      "Enter your age: 56\n",
      "Enter your age: 33\n",
      "Enter your age: 64\n",
      "Enter your age: 23\n",
      "Enter your age: 45\n",
      "Enter your age: 55\n",
      "Enter your age: 663\n",
      "Enter your age: 55\n",
      "1050\n"
     ]
    }
   ],
   "source": [
    "sum_=0\n",
    "for k in range(10):\n",
    "    age=int(input(\"Enter your age: \")) # 28,34\n",
    "    sum_ =sum_+age # 0+28=28, 28+34=62\n",
    "print(sum_)"
   ]
  },
  {
   "cell_type": "code",
   "execution_count": null,
   "metadata": {},
   "outputs": [],
   "source": [
    "### p=print\n",
    "print=10"
   ]
  },
  {
   "cell_type": "code",
   "execution_count": null,
   "metadata": {},
   "outputs": [],
   "source": [
    "print"
   ]
  },
  {
   "cell_type": "code",
   "execution_count": null,
   "metadata": {},
   "outputs": [],
   "source": [
    "print(\"Hello\")"
   ]
  },
  {
   "cell_type": "code",
   "execution_count": null,
   "metadata": {},
   "outputs": [],
   "source": [
    "10(\"Hello\")"
   ]
  },
  {
   "cell_type": "code",
   "execution_count": null,
   "metadata": {},
   "outputs": [],
   "source": [
    "print=p"
   ]
  },
  {
   "cell_type": "code",
   "execution_count": null,
   "metadata": {},
   "outputs": [],
   "source": [
    "print(\"Hello\")"
   ]
  },
  {
   "cell_type": "code",
   "execution_count": null,
   "metadata": {},
   "outputs": [],
   "source": []
  }
 ],
 "metadata": {
  "kernelspec": {
   "display_name": "Python 3",
   "language": "python",
   "name": "python3"
  },
  "language_info": {
   "codemirror_mode": {
    "name": "ipython",
    "version": 3
   },
   "file_extension": ".py",
   "mimetype": "text/x-python",
   "name": "python",
   "nbconvert_exporter": "python",
   "pygments_lexer": "ipython3",
   "version": "3.7.3"
  }
 },
 "nbformat": 4,
 "nbformat_minor": 2
}
